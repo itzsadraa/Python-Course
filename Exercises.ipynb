{
 "cells": [
  {
   "cell_type": "markdown",
   "id": "f1531a1c-b8bb-4928-90b9-dca1c11b7a44",
   "metadata": {},
   "source": [
    "## Q1"
   ]
  },
  {
   "cell_type": "code",
   "execution_count": 56,
   "id": "a05c95e9-90fd-4229-baef-cf520f986593",
   "metadata": {},
   "outputs": [
    {
     "name": "stdin",
     "output_type": "stream",
     "text": [
      " [5, 8, 34, 13, 53, 22, 93, 18]\n"
     ]
    },
    {
     "name": "stdout",
     "output_type": "stream",
     "text": [
      "82\n"
     ]
    }
   ],
   "source": [
    "inp = list(map(int, input().strip(\"[]\").split(\",\")))\n",
    "\n",
    "ans = 0\n",
    "for num in inp:\n",
    "    if num % 2 == 0:\n",
    "        ans += num\n",
    "\n",
    "print(ans)"
   ]
  },
  {
   "cell_type": "code",
   "execution_count": 58,
   "id": "d9fa0f0c-5396-4262-9b84-1d8bd28b036b",
   "metadata": {},
   "outputs": [
    {
     "name": "stdout",
     "output_type": "stream",
     "text": [
      "82\n"
     ]
    }
   ],
   "source": [
    "print(sum([num for num in inp if num % 2 == 0]))"
   ]
  },
  {
   "cell_type": "markdown",
   "id": "66757d01-88e2-492e-be75-56a47b296798",
   "metadata": {},
   "source": [
    "## Q2"
   ]
  },
  {
   "cell_type": "code",
   "execution_count": 62,
   "id": "a6dd1263-58b7-4827-996e-cc22bc461902",
   "metadata": {},
   "outputs": [
    {
     "name": "stdin",
     "output_type": "stream",
     "text": [
      " 6\n"
     ]
    },
    {
     "name": "stdout",
     "output_type": "stream",
     "text": [
      "Pos\n"
     ]
    }
   ],
   "source": [
    "inp = int(input())\n",
    "\n",
    "if inp > 0: print(\"Pos\")\n",
    "elif inp < 0: print(\"Neg\")\n",
    "else: print(\"Null\")"
   ]
  },
  {
   "cell_type": "markdown",
   "id": "04e6c6dd-4c79-4015-bb6d-45abe0c09efa",
   "metadata": {},
   "source": [
    "## Q3"
   ]
  },
  {
   "cell_type": "code",
   "execution_count": 64,
   "id": "85bc7c1f-77d6-41d3-a4b7-ace80799ec0d",
   "metadata": {},
   "outputs": [
    {
     "name": "stdout",
     "output_type": "stream",
     "text": [
      "[2.987654, 2.45678, 0.345678, 0, -0.78765432, -2.345678]\n"
     ]
    }
   ],
   "source": [
    "inp = [2.45678, 2.987654, -2.345678, 0.345678, -0.78765432, 0]\n",
    "print(sorted(inp, reverse=True))"
   ]
  },
  {
   "cell_type": "markdown",
   "id": "d9857141-c9c7-4f10-a79e-21750ff06ae0",
   "metadata": {},
   "source": [
    "## Q4"
   ]
  },
  {
   "cell_type": "code",
   "execution_count": 67,
   "id": "c2de3b32-19c7-4f08-8b0d-f00f6578d690",
   "metadata": {},
   "outputs": [
    {
     "name": "stdout",
     "output_type": "stream",
     "text": [
      "97\n"
     ]
    }
   ],
   "source": [
    "ans = []\n",
    "for num in range(2, 100):\n",
    "    is_prime = True\n",
    "    for i in range(2, num):\n",
    "        if num % i == 0:\n",
    "            is_prime = False\n",
    "\n",
    "    if is_prime:\n",
    "        ans.append(num)\n",
    "\n",
    "print(ans[-1])"
   ]
  },
  {
   "cell_type": "markdown",
   "id": "737a4126-87b4-4710-ac3b-c1519a5fc451",
   "metadata": {},
   "source": [
    "## Q5"
   ]
  },
  {
   "cell_type": "code",
   "execution_count": 70,
   "id": "05c4745e-6688-4f08-870f-d406c5ca26a2",
   "metadata": {},
   "outputs": [
    {
     "name": "stdout",
     "output_type": "stream",
     "text": [
      "[4, 9, 0, 6.035812190521001, 0.3224990521, 178.10714556550906]\n"
     ]
    }
   ],
   "source": [
    "inp = [2, -3, 0, 2.456789, 0.56789, -13.345678909876]\n",
    "\n",
    "for i in range(len(inp)):\n",
    "    inp[i] **= 2\n",
    "\n",
    "print(inp)"
   ]
  },
  {
   "cell_type": "code",
   "execution_count": 73,
   "id": "36c8105f-5141-4c84-bc4f-ae3697e064f7",
   "metadata": {},
   "outputs": [
    {
     "name": "stdout",
     "output_type": "stream",
     "text": [
      "[4, 9, 0, 6.035812190521001, 0.3224990521, 178.10714556550906]\n"
     ]
    }
   ],
   "source": [
    "inp = [2, -3, 0, 2.456789, 0.56789, -13.345678909876]\n",
    "print([num**2 for num in inp])"
   ]
  },
  {
   "cell_type": "markdown",
   "id": "69c73efa-e6bd-42a2-af00-057f6ed9b110",
   "metadata": {},
   "source": [
    "## Q6"
   ]
  },
  {
   "cell_type": "code",
   "execution_count": 84,
   "id": "0699ce23-a718-4da7-a953-d0e23f3f6a16",
   "metadata": {},
   "outputs": [
    {
     "name": "stdout",
     "output_type": "stream",
     "text": [
      "13\n"
     ]
    }
   ],
   "source": [
    "inp = [65, 42, 13, 47, 14, 401431019]\n",
    "\n",
    "min_num = inp[0]\n",
    "for num in inp:\n",
    "    if min_num > num:\n",
    "        min_num = num\n",
    "\n",
    "print(min_num)"
   ]
  },
  {
   "cell_type": "code",
   "execution_count": 86,
   "id": "913b9d18-8ebc-4f52-a3ab-4799cc4c8e82",
   "metadata": {},
   "outputs": [
    {
     "name": "stdout",
     "output_type": "stream",
     "text": [
      "13\n"
     ]
    }
   ],
   "source": [
    "print(sorted(inp)[0])"
   ]
  },
  {
   "cell_type": "markdown",
   "id": "b7051861-639c-4f23-8054-907bc4a5bb70",
   "metadata": {},
   "source": [
    "## Q7"
   ]
  },
  {
   "cell_type": "code",
   "execution_count": 89,
   "id": "a3c6d6bc-0072-4087-bb35-8e2d58af95a7",
   "metadata": {},
   "outputs": [
    {
     "name": "stdout",
     "output_type": "stream",
     "text": [
      "[13, 5, 200, 200, 200, 41, 200, 24568, 402431019]\n"
     ]
    }
   ],
   "source": [
    "m_list = [13, 5, 20, 200, 20, 41, 20, 24568, 402431019]\n",
    "\n",
    "for i in range(len(m_list)):\n",
    "    if m_list[i] == 20: m_list[i] = 200 \n",
    "\n",
    "print(m_list)"
   ]
  },
  {
   "cell_type": "markdown",
   "id": "918bd01f-6936-4c1b-b35b-4a105183d369",
   "metadata": {},
   "source": [
    "## Q8"
   ]
  },
  {
   "cell_type": "code",
   "execution_count": 96,
   "id": "08bb474e-5394-488f-b44b-78c9e30e815d",
   "metadata": {},
   "outputs": [
    {
     "name": "stdin",
     "output_type": "stream",
     "text": [
      " 5\n"
     ]
    },
    {
     "name": "stdout",
     "output_type": "stream",
     "text": [
      "1 \n",
      "1 2 \n",
      "1 2 3 \n",
      "1 2 3 4 \n",
      "1 2 3 4 5 \n"
     ]
    }
   ],
   "source": [
    "inp = int(input())\n",
    "\n",
    "for i in range(1, inp + 1):\n",
    "    for j in range(1, i + 1):\n",
    "        print(j, end=\" \")\n",
    "\n",
    "    print()"
   ]
  },
  {
   "cell_type": "markdown",
   "id": "2682f49d-3318-489e-91b7-0e401570255f",
   "metadata": {},
   "source": [
    "## Q9"
   ]
  },
  {
   "cell_type": "code",
   "execution_count": 120,
   "id": "94353188-325f-4329-89c0-a2932f70aa64",
   "metadata": {},
   "outputs": [
    {
     "name": "stdout",
     "output_type": "stream",
     "text": [
      "159\n",
      "159\n"
     ]
    }
   ],
   "source": [
    "inp = 123456789034567234567890345678123456789123456789123456789234567890987654321123456789012345671234567890123456789009876543212345678900987654322345323453234567890\n",
    "cnt = 0\n",
    "\n",
    "print(len(str(inp)))\n",
    "\n",
    "while inp != 0:\n",
    "    inp //= 10\n",
    "    cnt += 1\n",
    "\n",
    "print(cnt)"
   ]
  },
  {
   "cell_type": "markdown",
   "id": "e1313666-3f3e-46d2-84ec-0d0f9fa0cfb5",
   "metadata": {},
   "source": [
    "## Q10"
   ]
  },
  {
   "cell_type": "code",
   "execution_count": 1,
   "id": "21aff3c3-57b2-4b16-9da2-f651e70f6701",
   "metadata": {},
   "outputs": [
    {
     "name": "stdout",
     "output_type": "stream",
     "text": [
      "[402431019, 5, 20, 200, 20, 41, 20, 24568, 13]\n"
     ]
    }
   ],
   "source": [
    "inp = [13, 5, 20, 200, 20, 41, 20, 24568, 402431019]\n",
    "\n",
    "inp[0], inp[-1] = inp[-1], inp[0]\n",
    "\n",
    "print(inp)"
   ]
  },
  {
   "cell_type": "markdown",
   "id": "2a12302b-d5a3-4f87-be47-ea8bc1a3dcdc",
   "metadata": {},
   "source": [
    "## Q11"
   ]
  },
  {
   "cell_type": "code",
   "execution_count": 12,
   "id": "43f5ce28-8200-449d-9380-0ae6acdac5d0",
   "metadata": {},
   "outputs": [
    {
     "name": "stdin",
     "output_type": "stream",
     "text": [
      " 15\n"
     ]
    },
    {
     "name": "stdout",
     "output_type": "stream",
     "text": [
      "0 1 1 2 3 5 8 13 21 34 55 89 144 233 377 "
     ]
    }
   ],
   "source": [
    "inp = int(input())\n",
    "\n",
    "# 0 1 1 2 3 5 ...\n",
    "def fib(n):\n",
    "    if n <= 1: return n\n",
    "    else: return fib(n - 1) + fib(n - 2)\n",
    "\n",
    "for i in range(inp):\n",
    "    print(fib(i), end=\" \")"
   ]
  },
  {
   "cell_type": "markdown",
   "id": "e5a4f787-cb85-44ce-87ac-59e509f98e01",
   "metadata": {},
   "source": [
    "## Q12"
   ]
  },
  {
   "cell_type": "code",
   "execution_count": 21,
   "id": "d1c195ff-f763-4a11-aa90-0f332a6c9ecb",
   "metadata": {},
   "outputs": [
    {
     "name": "stdout",
     "output_type": "stream",
     "text": [
      "425\n"
     ]
    }
   ],
   "source": [
    "inp = {\"𝑎\": 13, \"𝑏\": 200,\"𝑐\": 212}\n",
    "print(sum(inp.values()))"
   ]
  },
  {
   "cell_type": "code",
   "execution_count": 19,
   "id": "080743e0-566b-4aa4-bef2-758ad8f5e108",
   "metadata": {},
   "outputs": [
    {
     "name": "stdin",
     "output_type": "stream",
     "text": [
      " {\"𝑎\": 13, \"𝑏\": 200,\"𝑐\": 212, \"d\": 400}\n"
     ]
    },
    {
     "name": "stdout",
     "output_type": "stream",
     "text": [
      "825\n"
     ]
    }
   ],
   "source": [
    "inp = input().strip(\"{}\").split(\",\")\n",
    "m_dict = {i.split(\":\")[0].strip(' \"\"'): int(i.split(\":\")[1]) for i in inp}\n",
    "\n",
    "print(sum(m_dict.values()))"
   ]
  },
  {
   "cell_type": "markdown",
   "id": "3ecefade-ca3f-43dd-9eb7-cea17cc71349",
   "metadata": {},
   "source": [
    "## Q13"
   ]
  },
  {
   "cell_type": "code",
   "execution_count": 24,
   "id": "410ecb5b-7de7-4342-9d48-0fff9643ab1f",
   "metadata": {},
   "outputs": [
    {
     "name": "stdout",
     "output_type": "stream",
     "text": [
      "{5: [2, 0, 9], 8: [5, 4, 2], 10: [2, 3, 9]}\n"
     ]
    }
   ],
   "source": [
    "inp = [[5, 8, 10],[2, 0, 9],[5, 4, 2],[2, 3, 9]]\n",
    "ans = {inp[0][i]: inp[i + 1] for i in range(len(inp) - 1)}\n",
    "print(ans)"
   ]
  },
  {
   "cell_type": "code",
   "execution_count": 30,
   "id": "961d41ec-55f5-41e4-8a68-e6dd698f5b70",
   "metadata": {},
   "outputs": [
    {
     "name": "stdin",
     "output_type": "stream",
     "text": [
      " [[5, 8, 10],[2, 0, 9],[5, 4, 2],[2, 3, 9]]\n"
     ]
    },
    {
     "name": "stdout",
     "output_type": "stream",
     "text": [
      "{5: [8, 10, 2], 8: [10, 2, 0], 10: [2, 0, 9]}\n"
     ]
    }
   ],
   "source": [
    "inp = [int(i.strip(\"[]\")) for i in input().strip(\"[]\").split(\",\")]\n",
    "ans = []\n",
    "\n",
    "for i in range(len(inp) // 3):\n",
    "    ans.append([inp[i + j] for j in range(3)])\n",
    "    \n",
    "print({ans[0][i]: ans[i + 1] for i in range(len(ans) - 1)})"
   ]
  },
  {
   "cell_type": "markdown",
   "id": "f43f9a85-4fd0-4d18-90e8-f3880fe25f4c",
   "metadata": {},
   "source": [
    "## Q14"
   ]
  },
  {
   "cell_type": "code",
   "execution_count": 36,
   "id": "7a25f4c0-56f9-4d24-babd-f72e6c5bde7f",
   "metadata": {},
   "outputs": [
    {
     "name": "stdout",
     "output_type": "stream",
     "text": [
      "{'a': 51, 'b': 68, 'c': 85}\n",
      "{'a': 54, 'b': 72, 'c': 90}\n",
      "{'a': 57, 'b': 76, 'c': 95}\n",
      "{'a': 60, 'b': 63, 'c': 87}\n",
      "{'a': 63, 'b': 60, 'c': 87}\n",
      "{'a': 65, 'b': 72, 'c': 97}\n",
      "{'a': 68, 'b': 51, 'c': 85}\n",
      "{'a': 72, 'b': 54, 'c': 90}\n",
      "{'a': 72, 'b': 65, 'c': 97}\n",
      "{'a': 76, 'b': 57, 'c': 95}\n"
     ]
    }
   ],
   "source": [
    "N = 100\n",
    "\n",
    "def solve(n):\n",
    "    ans = []\n",
    "\n",
    "    for a in range(n):\n",
    "        for b in range(n):\n",
    "            for c in range(n):\n",
    "                if a**2 + b**2 == c**2:\n",
    "                    ans.append({\"a\": a, \"b\": b, \"c\": c})\n",
    "\n",
    "    return ans\n",
    "\n",
    "for i in solve(N):\n",
    "    if i[\"a\"] > 50 and i[\"b\"] > 50:\n",
    "        print(i)"
   ]
  },
  {
   "cell_type": "markdown",
   "id": "a5984d74-99b7-49cb-b0a2-388dd133451c",
   "metadata": {},
   "source": [
    "## Q15"
   ]
  },
  {
   "cell_type": "code",
   "execution_count": 43,
   "id": "4f9b532f-daa2-4792-ade5-1315d9c6e68a",
   "metadata": {},
   "outputs": [
    {
     "name": "stdout",
     "output_type": "stream",
     "text": [
      "[6, 28, 496]\n"
     ]
    }
   ],
   "source": [
    "def is_per(n) -> bool:\n",
    "    s_o_multip = 1\n",
    "\n",
    "    for i in range(2, (n // 2) + 1):\n",
    "        if n % i == 0:\n",
    "            s_o_multip += i\n",
    "\n",
    "    return s_o_multip == n\n",
    "\n",
    "def solve(max_n):\n",
    "    ans = []\n",
    "\n",
    "    for i in range(2, max_n):\n",
    "        if is_per(i):\n",
    "            ans.append(i)\n",
    "\n",
    "    return ans\n",
    "\n",
    "print(solve(1000))"
   ]
  },
  {
   "cell_type": "markdown",
   "id": "3e68137c-64dc-41f0-acd2-71aa805bbc04",
   "metadata": {},
   "source": [
    "## Q16"
   ]
  },
  {
   "cell_type": "code",
   "execution_count": null,
   "id": "81581284-b239-4f33-b674-3d0951ff10fe",
   "metadata": {},
   "outputs": [],
   "source": []
  },
  {
   "cell_type": "markdown",
   "id": "64594d09-beae-4239-88d7-0bccec8edf73",
   "metadata": {},
   "source": [
    "## Q17"
   ]
  },
  {
   "cell_type": "code",
   "execution_count": 49,
   "id": "940ce0f0-17df-4b0d-9b1b-3f63b76adae4",
   "metadata": {},
   "outputs": [
    {
     "name": "stdout",
     "output_type": "stream",
     "text": [
      "[[1, 1], [2, 2], [3, 3], [4], [5, 5], [11, 11, 11], [13, 13, 13, 13]]\n"
     ]
    }
   ],
   "source": [
    "inp = [1, 13, 13, 3, 5, 1, 3, 2, 13, 11, 11, 5, 4, 2, 13, 11]\n",
    "m_dict = {}\n",
    "\n",
    "def solve(n):\n",
    "    for i in sorted(n):\n",
    "        if i not in m_dict:\n",
    "            m_dict[i] = [i]\n",
    "        else: m_dict[i].append(i)\n",
    "\n",
    "    return list(m_dict.values())\n",
    "\n",
    "print(solve(inp))      "
   ]
  },
  {
   "cell_type": "markdown",
   "id": "19b4517e-a9f0-495b-af63-69be00a471fa",
   "metadata": {},
   "source": [
    "## Q18"
   ]
  },
  {
   "cell_type": "code",
   "execution_count": 54,
   "id": "bfe807fa-2d3b-4d5f-858d-060348abf952",
   "metadata": {},
   "outputs": [
    {
     "name": "stdout",
     "output_type": "stream",
     "text": [
      "*\n",
      "***\n",
      "*****\n",
      "*******\n",
      "*********\n"
     ]
    }
   ],
   "source": [
    "n = 5\n",
    "\n",
    "for i in range(1, (n * 2) + 1, 2):\n",
    "    print(\"*\" * i)"
   ]
  },
  {
   "cell_type": "markdown",
   "id": "bc9ca85e-1fd8-4c3b-82bb-44f3bb9a361e",
   "metadata": {},
   "source": [
    "## Q20"
   ]
  },
  {
   "cell_type": "code",
   "execution_count": 57,
   "id": "e190b798-991b-4253-80ed-2e14406763eb",
   "metadata": {},
   "outputs": [
    {
     "name": "stdout",
     "output_type": "stream",
     "text": [
      "17\n"
     ]
    }
   ],
   "source": [
    "def m_sum(*args):\n",
    "    return sum(args)\n",
    "\n",
    "print(m_sum(2, 4, 6, 0, 1, 4))"
   ]
  },
  {
   "cell_type": "markdown",
   "id": "d412f768-6232-4115-a372-3b25bd389d3b",
   "metadata": {},
   "source": [
    "## Q19"
   ]
  },
  {
   "cell_type": "code",
   "execution_count": 65,
   "id": "2b8164f8-ec1f-4ca5-9631-437a189b3ae5",
   "metadata": {},
   "outputs": [
    {
     "name": "stdin",
     "output_type": "stream",
     "text": [
      "rows: 1\n",
      " 1\n"
     ]
    },
    {
     "name": "stdout",
     "output_type": "stream",
     "text": [
      "[[1]]\n"
     ]
    }
   ],
   "source": [
    "rows = int(input(\"rows:\"))\n",
    "ans = []\n",
    "for i in range(rows):\n",
    "    ans.append(list(map(int, input().split(\" \"))))\n",
    "\n",
    "print(ans)"
   ]
  },
  {
   "cell_type": "code",
   "execution_count": 69,
   "id": "f50fce20-1a4e-4fb0-895f-e54f9c4a7603",
   "metadata": {},
   "outputs": [
    {
     "name": "stdin",
     "output_type": "stream",
     "text": [
      " 1 2 3 4\n",
      " 4 5 6 8\n",
      " 2 3 7 9\n",
      " \n"
     ]
    },
    {
     "name": "stdout",
     "output_type": "stream",
     "text": [
      "[[1, 2, 3, 4], [4, 5, 6, 8], [2, 3, 7, 9]]\n"
     ]
    }
   ],
   "source": [
    "ans = []\n",
    "\n",
    "while True:\n",
    "    inp = input()\n",
    "    if not inp:\n",
    "        break\n",
    "\n",
    "    ans.append(list(map(int, inp.split(\" \"))))\n",
    "\n",
    "print(ans)"
   ]
  }
 ],
 "metadata": {
  "kernelspec": {
   "display_name": "Python 3 (ipykernel)",
   "language": "python",
   "name": "python3"
  },
  "language_info": {
   "codemirror_mode": {
    "name": "ipython",
    "version": 3
   },
   "file_extension": ".py",
   "mimetype": "text/x-python",
   "name": "python",
   "nbconvert_exporter": "python",
   "pygments_lexer": "ipython3",
   "version": "3.12.4"
  }
 },
 "nbformat": 4,
 "nbformat_minor": 5
}
